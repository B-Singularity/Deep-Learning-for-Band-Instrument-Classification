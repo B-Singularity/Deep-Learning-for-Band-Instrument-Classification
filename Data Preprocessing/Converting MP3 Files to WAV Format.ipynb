{
 "cells": [
  {
   "cell_type": "code",
   "execution_count": 62,
   "metadata": {},
   "outputs": [],
   "source": [
    "import os \n",
    "from pydub import AudioSegment"
   ]
  },
  {
   "cell_type": "code",
   "execution_count": 240,
   "metadata": {},
   "outputs": [],
   "source": [
    "all_files = os.listdir(folder_path)"
   ]
  },
  {
   "cell_type": "code",
   "execution_count": 239,
   "metadata": {},
   "outputs": [],
   "source": [
    "folder_path = \"/Users/seong-gyeongjun/Downloads/논문 프로젝트- 음악 구분 딥러닝/음원 길이 편집한 음원/rush/vocal\""
   ]
  },
  {
   "cell_type": "code",
   "execution_count": 241,
   "metadata": {},
   "outputs": [],
   "source": [
    "for file_name in all_files:\n",
    "    if file_name.endswith(\".mp3\"):\n",
    "        mp3_file_path = os.path.join(folder_path, file_name)\n",
    "        wav_file_path = os.path.join(folder_path, file_name.replace(\".mp3\", \".wav\"))\n",
    "        sound = AudioSegment.from_mp3(mp3_file_path)\n",
    "        sound.export(wav_file_path, format=\"wav\")"
   ]
  }
 ],
 "metadata": {
  "kernelspec": {
   "display_name": "pj",
   "language": "python",
   "name": "python3"
  },
  "language_info": {
   "codemirror_mode": {
    "name": "ipython",
    "version": 3
   },
   "file_extension": ".py",
   "mimetype": "text/x-python",
   "name": "python",
   "nbconvert_exporter": "python",
   "pygments_lexer": "ipython3",
   "version": "3.9.16"
  },
  "orig_nbformat": 4,
  "vscode": {
   "interpreter": {
    "hash": "0930f51b7f8fccee0d7182234ca13275538a7e94233ceb04258aaf97e8485bf5"
   }
  }
 },
 "nbformat": 4,
 "nbformat_minor": 2
}

{
 "cells": [
  {
   "cell_type": "code",
   "execution_count": 2,
   "metadata": {},
   "outputs": [
    {
     "name": "stdout",
     "output_type": "stream",
     "text": [
      "폴더 내 총 파일 개수: 324\n",
      "폴더 내 총 재생시간: 90011.89초\n"
     ]
    }
   ],
   "source": [
    "import wave\n",
    "import os\n",
    "\n",
    "folder_path = '/Users/seong-gyeongjun/Downloads/논문 프로젝트- 음악 구분 딥러닝/음원 길이 편집한 음원'\n",
    "\n",
    "total_duration = 0\n",
    "total_files = 0\n",
    "\n",
    "# Load a list of all files and folders within the folder.\n",
    "for root, dirs, files in os.walk(folder_path):\n",
    "    for filename in files:\n",
    "        if filename.endswith('.wav'):\n",
    "            file_path = os.path.join(root, filename)\n",
    "            with wave.open(file_path, 'r') as wave_file:\n",
    "                frames = wave_file.getnframes()\n",
    "                rate = wave_file.getframerate()\n",
    "                duration = frames / float(rate)\n",
    "                total_duration += duration\n",
    "                total_files += 1\n",
    "\n",
    "print('폴더 내 총 파일 개수: {}'.format(total_files))\n",
    "print('폴더 내 총 재생시간: {:.2f}초'.format(total_duration))\n"
   ]
  }
 ],
 "metadata": {
  "kernelspec": {
   "display_name": "pj",
   "language": "python",
   "name": "python3"
  },
  "language_info": {
   "codemirror_mode": {
    "name": "ipython",
    "version": 3
   },
   "file_extension": ".py",
   "mimetype": "text/x-python",
   "name": "python",
   "nbconvert_exporter": "python",
   "pygments_lexer": "ipython3",
   "version": "3.9.16 (main, Mar  8 2023, 04:29:44) \n[Clang 14.0.6 ]"
  },
  "orig_nbformat": 4,
  "vscode": {
   "interpreter": {
    "hash": "0930f51b7f8fccee0d7182234ca13275538a7e94233ceb04258aaf97e8485bf5"
   }
  }
 },
 "nbformat": 4,
 "nbformat_minor": 2
}

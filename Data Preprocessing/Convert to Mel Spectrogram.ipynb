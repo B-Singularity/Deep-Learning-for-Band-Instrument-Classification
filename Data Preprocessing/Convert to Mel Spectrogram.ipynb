{
 "cells": [
  {
   "cell_type": "code",
   "execution_count": 2,
   "metadata": {},
   "outputs": [],
   "source": [
    "import os\n",
    "import librosa\n",
    "import librosa.display\n",
    "import numpy as np\n",
    "import shutil\n",
    "import matplotlib.pyplot as plt"
   ]
  },
  {
   "cell_type": "code",
   "execution_count": 496,
   "metadata": {},
   "outputs": [],
   "source": [
    "folder_path = '/Users/seong-gyeongjun/Downloads/논문 프로젝트- 음악 구분 딥러닝/음원 길이 편집한 음원/rush/vocal'  # Original folder path\n",
    "save_path = '/Users/seong-gyeongjun/Downloads/논문 프로젝트- 음악 구분 딥러닝/음원 mel-spectrogram 7초짜리/vocal' # Destination folder path to create\n",
    "sr = 22050  # Sampling rate\n",
    "duration = 7  # Extracted audio length (in seconds)\n",
    "if not os.path.exists(save_path):\n",
    "    os.makedirs(save_path)"
   ]
  },
  {
   "cell_type": "code",
   "execution_count": 497,
   "metadata": {},
   "outputs": [
    {
     "name": "stdout",
     "output_type": "stream",
     "text": [
      "Mel-spectrograms have been saved to /Users/seong-gyeongjun/Downloads/논문 프로젝트- 음악 구분 딥러닝/음원 mel-spectrogram 7초짜리/vocal\n"
     ]
    }
   ],
   "source": [
    "# Extract Mel-spectrograms for all WAV files in the folder\n",
    "for file_name in os.listdir(folder_path):\n",
    "    if file_name.endswith('.wav'):\n",
    "        file_path = os.path.join(folder_path, file_name)\n",
    "        y, sr = librosa.load(file_path, sr=sr)\n",
    "        n_samples = int(sr * duration)\n",
    "        n_frames = int(np.ceil(len(y) / n_samples))\n",
    "        \n",
    "        # Extract Mel-spectrograms at 3-second intervals and save\n",
    "        for i in range(n_frames):\n",
    "            start = i * n_samples\n",
    "            end = min(len(y), start + n_samples)\n",
    "            y_slice = y[start:end]\n",
    "            mel = librosa.feature.melspectrogram(y=y_slice, sr=sr, n_mels=128)\n",
    "            log_mel = librosa.amplitude_to_db(mel, ref=np.max)\n",
    "            save_name = f'{file_name[:-4]}_{i+1}.png'\n",
    "            save_path_ = os.path.join(save_path, save_name)\n",
    "            librosa.display.specshow(log_mel, sr=sr, hop_length=n_samples, cmap='viridis')\n",
    "            plt.axis('off')\n",
    "            plt.savefig(save_path_, bbox_inches='tight', pad_inches=0)\n",
    "            plt.clf()\n",
    "            \n",
    "print(\"Mel-spectrograms have been saved to\", save_path)"
   ]
  },
  {
   "cell_type": "code",
   "execution_count": 10,
   "metadata": {},
   "outputs": [
    {
     "name": "stdout",
     "output_type": "stream",
     "text": [
      "폴더 내 파일 개수: 45171\n"
     ]
    }
   ],
   "source": [
    "import os\n",
    "\n",
    "folder_path = '/Users/seong-gyeongjun/Downloads/논문 프로젝트- 음악 구분 딥러닝/음원 mel-spectrogram 2초짜리'  # Specify the folder path\n",
    "file_count = 0  # Set the initial value for the number of files\n",
    "\n",
    "# Count the number of files in the folder\n",
    "for _, _, files in os.walk(folder_path):\n",
    "    file_count += len(files)\n",
    "\n",
    "print(f'폴더 내 파일 개수: {file_count}')\n"
   ]
  },
  {
   "cell_type": "code",
   "execution_count": null,
   "metadata": {},
   "outputs": [],
   "source": []
  },
  {
   "cell_type": "code",
   "execution_count": null,
   "metadata": {},
   "outputs": [],
   "source": []
  },
  {
   "cell_type": "code",
   "execution_count": null,
   "metadata": {},
   "outputs": [],
   "source": []
  },
  {
   "cell_type": "code",
   "execution_count": null,
   "metadata": {},
   "outputs": [],
   "source": []
  },
  {
   "cell_type": "code",
   "execution_count": null,
   "metadata": {},
   "outputs": [],
   "source": []
  },
  {
   "cell_type": "code",
   "execution_count": null,
   "metadata": {},
   "outputs": [],
   "source": []
  }
 ],
 "metadata": {
  "kernelspec": {
   "display_name": "pj",
   "language": "python",
   "name": "python3"
  },
  "language_info": {
   "codemirror_mode": {
    "name": "ipython",
    "version": 3
   },
   "file_extension": ".py",
   "mimetype": "text/x-python",
   "name": "python",
   "nbconvert_exporter": "python",
   "pygments_lexer": "ipython3",
   "version": "3.9.16 (main, Mar  8 2023, 04:29:44) \n[Clang 14.0.6 ]"
  },
  "orig_nbformat": 4,
  "vscode": {
   "interpreter": {
    "hash": "0930f51b7f8fccee0d7182234ca13275538a7e94233ceb04258aaf97e8485bf5"
   }
  }
 },
 "nbformat": 4,
 "nbformat_minor": 2
}

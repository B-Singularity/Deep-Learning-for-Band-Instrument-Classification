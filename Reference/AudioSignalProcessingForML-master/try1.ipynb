{
 "cells": [
  {
   "cell_type": "code",
   "execution_count": 1,
   "metadata": {},
   "outputs": [],
   "source": [
    "import matplotlib.pyplot as plt\n",
    "import numpy as np\n",
    "import librosa\n",
    "import librosa.display\n",
    "import IPython.display as ipd\n",
    "import os "
   ]
  },
  {
   "cell_type": "code",
   "execution_count": 6,
   "metadata": {},
   "outputs": [],
   "source": [
    "jeff_Mercu = \"/Users/seong-gyeongjun/Downloads/논문 프로젝트- 음악 구분 딥러닝/Mercurial_Jeff-Loomis_Plains-Of-Oblivion.wav\"\n",
    "jeff_Miles = \"/Users/seong-gyeongjun/Downloads/논문 프로젝트- 음악 구분 딥러닝/Miles-of-Machines_Jeff-Loomis_Zero-Order-Phase.wav\"\n",
    "jeff_Tragedy = \"/Users/seong-gyeongjun/Downloads/논문 프로젝트- 음악 구분 딥러닝/Tragedy-and-Harmony_Jeff-Loomis_Plains-Of-Oblivion.wav\"\n",
    "\n",
    "#load audio files with librosa\n",
    "jeff_Mercu, _ = librosa.load(jeff_Mercu)\n",
    "jeff_Miles, _ = librosa.load(jeff_Miles)\n",
    "jeff_Tragedy, _ = librosa.load(jeff_Tragedy)"
   ]
  },
  {
   "cell_type": "code",
   "execution_count": 11,
   "metadata": {},
   "outputs": [],
   "source": [
    "#extract RMSE with librosa\n",
    "FRAME_LENGTH = 1024\n",
    "HOP_LENGTH = 512\n",
    "rms_Mercu = librosa.feature.rms(y=jeff_Mercu, frame_length = FRAME_LENGTH, hop_length =HOP_LENGTH)[0]\n",
    "rms_Miles = librosa.feature.rms(y=jeff_Miles, frame_length = FRAME_LENGTH, hop_length =HOP_LENGTH)[0]\n",
    "rms_Tragedy = librosa.feature.rms(y=jeff_Tragedy, frame_length = FRAME_LENGTH, hop_length =HOP_LENGTH)[0]"
   ]
  },
  {
   "cell_type": "code",
   "execution_count": null,
   "metadata": {},
   "outputs": [],
   "source": []
  },
  {
   "cell_type": "code",
   "execution_count": null,
   "metadata": {},
   "outputs": [],
   "source": []
  },
  {
   "cell_type": "code",
   "execution_count": null,
   "metadata": {},
   "outputs": [],
   "source": []
  },
  {
   "cell_type": "code",
   "execution_count": null,
   "metadata": {},
   "outputs": [],
   "source": []
  },
  {
   "cell_type": "code",
   "execution_count": null,
   "metadata": {},
   "outputs": [],
   "source": []
  },
  {
   "cell_type": "code",
   "execution_count": null,
   "metadata": {},
   "outputs": [],
   "source": []
  },
  {
   "cell_type": "code",
   "execution_count": null,
   "metadata": {},
   "outputs": [],
   "source": []
  },
  {
   "cell_type": "code",
   "execution_count": null,
   "metadata": {},
   "outputs": [],
   "source": []
  },
  {
   "cell_type": "code",
   "execution_count": null,
   "metadata": {},
   "outputs": [],
   "source": []
  },
  {
   "cell_type": "code",
   "execution_count": null,
   "metadata": {},
   "outputs": [],
   "source": []
  }
 ],
 "metadata": {
  "kernelspec": {
   "display_name": "pj",
   "language": "python",
   "name": "python3"
  },
  "language_info": {
   "codemirror_mode": {
    "name": "ipython",
    "version": 3
   },
   "file_extension": ".py",
   "mimetype": "text/x-python",
   "name": "python",
   "nbconvert_exporter": "python",
   "pygments_lexer": "ipython3",
   "version": "3.9.16 (main, Mar  8 2023, 04:29:44) \n[Clang 14.0.6 ]"
  },
  "orig_nbformat": 4,
  "vscode": {
   "interpreter": {
    "hash": "0930f51b7f8fccee0d7182234ca13275538a7e94233ceb04258aaf97e8485bf5"
   }
  }
 },
 "nbformat": 4,
 "nbformat_minor": 2
}
